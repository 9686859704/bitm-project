{
 "cells": [
  {
   "cell_type": "code",
   "execution_count": 2,
   "id": "b9b5b7ac-7606-4e90-9120-566789a4566e",
   "metadata": {
    "scrolled": true
   },
   "outputs": [
    {
     "name": "stdin",
     "output_type": "stream",
     "text": [
      " 58\n"
     ]
    },
    {
     "name": "stdout",
     "output_type": "stream",
     "text": [
      "29\n",
      "88\n",
      "44\n",
      "22\n",
      "11\n",
      "34\n",
      "17\n",
      "52\n",
      "26\n",
      "13\n",
      "40\n",
      "20\n",
      "10\n",
      "5\n",
      "16\n",
      "8\n",
      "4\n",
      "2\n",
      "1\n",
      "19\n"
     ]
    }
   ],
   "source": [
    "n=int(input())\n",
    "c=0\n",
    "while(n>1):\n",
    "    if(n%2==0):\n",
    "        n=n//2\n",
    "        print(n)\n",
    "    else:\n",
    "        n=n*3+1\n",
    "        print(n)\n",
    "    c=c+1\n",
    "print(c)"
   ]
  },
  {
   "cell_type": "code",
   "execution_count": 3,
   "id": "bdf0c97f-0f14-4f5b-8dbb-0bc377beb6a3",
   "metadata": {},
   "outputs": [
    {
     "name": "stdin",
     "output_type": "stream",
     "text": [
      " 69\n"
     ]
    },
    {
     "name": "stdout",
     "output_type": "stream",
     "text": [
      "0\n",
      "1\n",
      "1\n",
      "2\n",
      "3\n",
      "5\n",
      "8\n",
      "13\n",
      "21\n",
      "34\n",
      "55\n",
      "89\n",
      "144\n",
      "233\n",
      "377\n",
      "610\n",
      "987\n",
      "1597\n",
      "2584\n",
      "4181\n",
      "6765\n",
      "10946\n",
      "17711\n",
      "28657\n",
      "46368\n",
      "75025\n",
      "121393\n",
      "196418\n",
      "317811\n",
      "514229\n",
      "832040\n",
      "1346269\n",
      "2178309\n",
      "3524578\n",
      "5702887\n",
      "9227465\n",
      "14930352\n",
      "24157817\n",
      "39088169\n",
      "63245986\n",
      "102334155\n",
      "165580141\n",
      "267914296\n",
      "433494437\n",
      "701408733\n",
      "1134903170\n",
      "1836311903\n",
      "2971215073\n",
      "4807526976\n",
      "7778742049\n",
      "12586269025\n",
      "20365011074\n",
      "32951280099\n",
      "53316291173\n",
      "86267571272\n",
      "139583862445\n",
      "225851433717\n",
      "365435296162\n",
      "591286729879\n",
      "956722026041\n",
      "1548008755920\n",
      "2504730781961\n",
      "4052739537881\n",
      "6557470319842\n",
      "10610209857723\n",
      "17167680177565\n",
      "27777890035288\n",
      "44945570212853\n",
      "72723460248141\n",
      "117669030460994\n",
      "190392490709135\n",
      "308061521170129\n"
     ]
    }
   ],
   "source": [
    "n =int(input())\n",
    "a=0\n",
    "b=1\n",
    "sum=0\n",
    "c=0\n",
    "print(a)\n",
    "print(b)\n",
    "while(c<=n):\n",
    "    c=c+1\n",
    "    sum=a+b\n",
    "    a=b\n",
    "    b=sum\n",
    "    print(sum)"
   ]
  },
  {
   "cell_type": "code",
   "execution_count": 4,
   "id": "449655e2-5853-45e0-8faf-1dcd389783c2",
   "metadata": {},
   "outputs": [
    {
     "name": "stdin",
     "output_type": "stream",
     "text": [
      " 22\n",
      " 45\n"
     ]
    },
    {
     "name": "stdout",
     "output_type": "stream",
     "text": [
      "The swap number is 45\n"
     ]
    }
   ],
   "source": [
    "n=int(input())\n",
    "m=int(input())\n",
    "if(n>=m):\n",
    "    print(\"The swap number is\",n)\n",
    "else:\n",
    "    print(\"The swap number is\",m)"
   ]
  },
  {
   "cell_type": "code",
   "execution_count": 5,
   "id": "faa18b5e-b08a-4427-94a3-8786b3fcdb38",
   "metadata": {},
   "outputs": [
    {
     "name": "stdin",
     "output_type": "stream",
     "text": [
      " 22\n",
      " 55\n",
      " 48\n"
     ]
    },
    {
     "name": "stdout",
     "output_type": "stream",
     "text": [
      "value of a after swap 55\n",
      "value of a after swap 48\n"
     ]
    }
   ],
   "source": [
    "a=int(input())\n",
    "b=int(input())\n",
    "c=int(input())\n",
    "temp=a\n",
    "a=b\n",
    "b=c\n",
    "c=temp\n",
    "print(\"value of a after swap\",a)\n",
    "print(\"value of a after swap\",b)"
   ]
  },
  {
   "cell_type": "code",
   "execution_count": 6,
   "id": "b057b670-2325-4dec-802d-18599d4bd8ba",
   "metadata": {},
   "outputs": [
    {
     "name": "stdin",
     "output_type": "stream",
     "text": [
      " 89\n",
      " 58\n",
      " 46\n"
     ]
    },
    {
     "name": "stdout",
     "output_type": "stream",
     "text": [
      "value of a after swap 58\n",
      "value of a after swap 46\n"
     ]
    }
   ],
   "source": [
    "a=int(input())\n",
    "b=int(input())\n",
    "c=int(input())\n",
    "temp=a\n",
    "a=b\n",
    "b=c\n",
    "c=temp\n",
    "print(\"value of a after swap\",a)\n",
    "print(\"value of a after swap\",b)"
   ]
  },
  {
   "cell_type": "code",
   "execution_count": 7,
   "id": "64b5c324-ce25-4962-af10-167cd45bb3e6",
   "metadata": {},
   "outputs": [
    {
     "name": "stdin",
     "output_type": "stream",
     "text": [
      " a number :  55\n",
      " b number :  85\n",
      " c number :  44\n"
     ]
    },
    {
     "name": "stdout",
     "output_type": "stream",
     "text": [
      "The largest number among 55.0, 85.0, and 44.0 is: 85.0\n"
     ]
    }
   ],
   "source": [
    "def find_largest_number():\n",
    "   \n",
    "    num1 = float(input(\" a number : \"))\n",
    "    num2 = float(input(\" b number : \"))\n",
    "    num3 = float(input(\" c number : \"))\n",
    "\n",
    "    largest_number = max(num1, num2, num3)\n",
    "   \n",
    "    print(f\"The largest number among {num1}, {num2}, and {num3} is: {largest_number}\")\n",
    "\n",
    "find_largest_number()"
   ]
  },
  {
   "cell_type": "code",
   "execution_count": 8,
   "id": "b062124a-123d-4df2-ac4c-d35b9d898ce5",
   "metadata": {},
   "outputs": [
    {
     "data": {
      "text/plain": [
       "[<matplotlib.lines.Line2D at 0x2350421ea50>]"
      ]
     },
     "execution_count": 8,
     "metadata": {},
     "output_type": "execute_result"
    },
    {
     "data": {
      "image/png": "[encoded data removed]",
      "text/plain": [
       "<Figure size 640x480 with 1 Axes>"
      ]
     },
     "metadata": {},
     "output_type": "display_data"
    }
   ],
   "source": [
    "import numpy as np\n",
    "import matplotlib.pyplot as plt\n",
    "ax=plt.axes()\n",
    "ax.set_facecolor(\"lightblue\")\n",
    "x=[1,1,2,3,3]\n",
    "y=[1,4,2,4,1]\n",
    "plt.grid(color=\"k\")\n",
    "plt.plot(x,y,color=\"m\",marker=\"s\",ms=\"10\",mec=\"k\")"
   ]
  },
  {
   "cell_type": "code",
   "execution_count": 9,
   "id": "89264ee5-30ea-46c7-988d-4c02d357bd96",
   "metadata": {},
   "outputs": [
    {
     "name": "stdout",
     "output_type": "stream",
     "text": [
      "original list: ['apple', 'banana', 'orange']\n",
      "updated list: ['apple', 'banana', 'orange', 'cherry']\n"
     ]
    }
   ],
   "source": [
    "fruits=['apple','banana','orange']\n",
    "print('original list:',fruits)\n",
    "fruits.append('cherry')\n",
    "print('updated list:',fruits)"
   ]
  },
  {
   "cell_type": "code",
   "execution_count": 13,
   "id": "7de3370e-8a32-4027-8c8e-42f81d656211",
   "metadata": {},
   "outputs": [
    {
     "name": "stdin",
     "output_type": "stream",
     "text": [
      " 85\n",
      " 55\n",
      " 65\n"
     ]
    },
    {
     "name": "stdout",
     "output_type": "stream",
     "text": [
      "46\n",
      "25\n",
      "4\n"
     ]
    }
   ],
   "source": [
    " tg=int(input())\n",
    "lbs=int(input())\n",
    "bbs=int(input())\n",
    "lbc=(tg*lbs)//100\n",
    "bbc=((tg-lbc)*bbs)//100\n",
    "rem=(tg-(lbc+bbc))//3\n",
    "print(lbc)\n",
    "print(bbc)\n",
    "print(rem)"
   ]
  },
  {
   "cell_type": "code",
   "execution_count": 7,
   "id": "d77f8ae1-73bb-4cb8-ba33-c180a3688ab3",
   "metadata": {},
   "outputs": [
    {
     "name": "stdin",
     "output_type": "stream",
     "text": [
      " 5\n",
      " 10\n"
     ]
    },
    {
     "name": "stdout",
     "output_type": "stream",
     "text": [
      "6\n"
     ]
    }
   ],
   "source": [
    "import math \n",
    "x1=3\n",
    "y1=4\n",
    "x2=int(input())\n",
    "y2=int(input())\n",
    "print(int(math.sqrt(((x2-x1)*(x2-x1))+((y2-y1)*(y2-y1)))))\n"
   ]
  },
  {
   "cell_type": "code",
   "execution_count": 8,
   "id": "3db270b4-5985-400a-87dd-8b6c3238b602",
   "metadata": {},
   "outputs": [
    {
     "ename": "SyntaxError",
     "evalue": "invalid syntax (4001077285.py, line 1)",
     "output_type": "error",
     "traceback": [
      "\u001b[1;36m  Cell \u001b[1;32mIn[8], line 1\u001b[1;36m\u001b[0m\n\u001b[1;33m    kamal was travelling from india to USA and he was not aware of curreency system of USA can you help to add dollars and cents(100 cents =1 dollar).\u001b[0m\n\u001b[1;37m          ^\u001b[0m\n\u001b[1;31mSyntaxError\u001b[0m\u001b[1;31m:\u001b[0m invalid syntax\n"
     ]
    }
   ],
   "source": [
    "kamal was travelling from india to USA and he was not aware of curreency system of USA can you help to add dollars and cents(100 cents =1 dollar).\n",
    "iput:\n",
    "30->dollars\n",
    "10->cents\n",
    "140->dollars\n",
    "99->cents\n",
    "output:\n",
    "171->dollars\n",
    "9->cents\n",
    "                                                                                                                             \n",
    "                                                                                                                             "
   ]
  },
  {
   "cell_type": "code",
   "execution_count": 10,
   "id": "3fa21d80-cb69-4c63-a447-420822f9d63b",
   "metadata": {},
   "outputs": [
    {
     "name": "stdin",
     "output_type": "stream",
     "text": [
      " 30\n",
      " 10\n",
      " 140\n",
      " 99\n"
     ]
    },
    {
     "name": "stdout",
     "output_type": "stream",
     "text": [
      "171\n",
      "9\n"
     ]
    }
   ],
   "source": [
    "d1=int(input())\n",
    "c1=int(input())\n",
    "d2=int(input())\n",
    "c2=int(input())\n",
    "td=(d1+d2)+(c1+c2)//100\n",
    "rc=(c1+c2)%100\n",
    "print(td)\n",
    "print(rc)"
   ]
  },
  {
   "cell_type": "code",
   "execution_count": 11,
   "id": "b26354ec-dd6a-4c0c-83d7-e1d2eb08e08e",
   "metadata": {},
   "outputs": [
    {
     "ename": "SyntaxError",
     "evalue": "invalid syntax (154013508.py, line 1)",
     "output_type": "error",
     "traceback": [
      "\u001b[1;36m  Cell \u001b[1;32mIn[11], line 1\u001b[1;36m\u001b[0m\n\u001b[1;33m    write a program to reverse a 3 digit number input 456 output 654\u001b[0m\n\u001b[1;37m          ^\u001b[0m\n\u001b[1;31mSyntaxError\u001b[0m\u001b[1;31m:\u001b[0m invalid syntax\n"
     ]
    }
   ],
   "source": [
    "write a program to reverse a 3 digit number input 456 output 654\n",
    "\n"
   ]
  },
  {
   "cell_type": "code",
   "execution_count": 13,
   "id": "56f9eb94-c05e-470c-97c3-e9571bd2e972",
   "metadata": {},
   "outputs": [
    {
     "name": "stdout",
     "output_type": "stream",
     "text": [
      "654\n"
     ]
    }
   ],
   "source": [
    "def reverse_three_digit_number(num):\n",
    "   \n",
    "    ones = num % 10\n",
    "    num = num // 10\n",
    "    tens = num % 10\n",
    "    num = num // 10\n",
    "    hundreds = num\n",
    "    reversed_num = ones * 100 + tens * 10 + hundreds\n",
    "    return reversed_num\n",
    "input_number = 456\n",
    "reversed_number = reverse_three_digit_number(input_number)\n",
    "print(reversed_number)"
   ]
  },
  {
   "cell_type": "code",
   "execution_count": 15,
   "id": "27a22437-e6c3-491d-a7b7-834597df509f",
   "metadata": {},
   "outputs": [
    {
     "name": "stdin",
     "output_type": "stream",
     "text": [
      " 420\n"
     ]
    },
    {
     "name": "stdout",
     "output_type": "stream",
     "text": [
      "0 2 4\n"
     ]
    }
   ],
   "source": [
    "n=int(input())\n",
    "f=n//100\n",
    "s=(n%100)//10\n",
    "l=n%10\n",
    "print(l,s,f)\n"
   ]
  },
  {
   "cell_type": "code",
   "execution_count": 2,
   "id": "ae9fea2b-90ee-4cf9-9032-27de139223b2",
   "metadata": {},
   "outputs": [
    {
     "ename": "SyntaxError",
     "evalue": "Missing parentheses in call to 'print'. Did you mean print(...)? (3824501815.py, line 1)",
     "output_type": "error",
     "traceback": [
      "\u001b[1;36m  Cell \u001b[1;32mIn[2], line 1\u001b[1;36m\u001b[0m\n\u001b[1;33m    write a program to print multiplication of table\u001b[0m\n\u001b[1;37m                       ^\u001b[0m\n\u001b[1;31mSyntaxError\u001b[0m\u001b[1;31m:\u001b[0m Missing parentheses in call to 'print'. Did you mean print(...)?\n"
     ]
    }
   ],
   "source": [
    "write a program to print multiplication of table \n",
    "input:\n",
    "5\n",
    "10\n",
    "output:\n",
    "5*1=5..\n",
    ".\n",
    ".\n",
    "5*10=50"
   ]
  },
  {
   "cell_type": "code",
   "execution_count": 9,
   "id": "bd8e6b26-d17c-4d61-8033-c08c178fa207",
   "metadata": {},
   "outputs": [
    {
     "name": "stdin",
     "output_type": "stream",
     "text": [
      "Enter the number for multiplication table:  5\n",
      "Enter the limit for multiplication:  10\n"
     ]
    },
    {
     "name": "stdout",
     "output_type": "stream",
     "text": [
      "5 * 1 = 5\n",
      "5 * 2 = 10\n",
      "5 * 3 = 15\n",
      "5 * 4 = 20\n",
      "5 * 5 = 25\n",
      "5 * 6 = 30\n",
      "5 * 7 = 35\n",
      "5 * 8 = 40\n",
      "5 * 9 = 45\n",
      "5 * 10 = 50\n"
     ]
    }
   ],
   "source": [
    "def print_multiplication_table(number, limit):\n",
    "    for i in range(1, limit + 1):\n",
    "        result = number * i\n",
    "        print(f\"{number} * {i} = {result}\")\n",
    "number = int(input(\"Enter the number for multiplication table: \"))\n",
    "limit = int(input(\"Enter the limit for multiplication: \"))\n",
    "print_multiplication_table(number, limit)"
   ]
  },
  {
   "cell_type": "code",
   "execution_count": 4,
   "id": "c98a0938-2ccd-40d9-9949-c8a1de254b8d",
   "metadata": {},
   "outputs": [
    {
     "ename": "SyntaxError",
     "evalue": "unmatched ')' (1330751992.py, line 1)",
     "output_type": "error",
     "traceback": [
      "\u001b[1;36m  Cell \u001b[1;32mIn[4], line 1\u001b[1;36m\u001b[0m\n\u001b[1;33m    n1=float9input())\u001b[0m\n\u001b[1;37m                    ^\u001b[0m\n\u001b[1;31mSyntaxError\u001b[0m\u001b[1;31m:\u001b[0m unmatched ')'\n"
     ]
    }
   ],
   "source": [
    "n1=float9input())\n",
    "s=input()\n",
    "n2=float(input())\n",
    "if(s==\"+\"):\n",
    "    print(n1+n2)\n",
    "if(s==\"-\"):\n",
    "    print(n1+n2)\n",
    "elif(s==\"-\"):\n",
    "    print(n1-n2)\n",
    "elif(s==:\"*\"):\n",
    "    print(n1*n2)\n",
    "elif(s==\"/\"):\n",
    "    print(n1/n2)\n",
    "elif(s==\"//\"):\n",
    "    print(n1//n2)\n",
    "elif(s==\"%\"):\n",
    "    print(n1%n2)\n",
    "    \n",
    "\n",
    "\n",
    "\n",
    "\n",
    "\n",
    "\n",
    "\n"
   ]
  },
  {
   "cell_type": "code",
   "execution_count": 5,
   "id": "f4aba444-63a1-45b7-9a1e-1ace98b2573a",
   "metadata": {},
   "outputs": [
    {
     "ename": "IndentationError",
     "evalue": "expected an indented block after function definition on line 21 (3154727807.py, line 22)",
     "output_type": "error",
     "traceback": [
      "\u001b[1;36m  Cell \u001b[1;32mIn[5], line 22\u001b[1;36m\u001b[0m\n\u001b[1;33m    if num <= 1:\u001b[0m\n\u001b[1;37m    ^\u001b[0m\n\u001b[1;31mIndentationError\u001b[0m\u001b[1;31m:\u001b[0m expected an indented block after function definition on line 21\n"
     ]
    }
   ],
   "source": [
    "def is_prime(num):\n",
    "    if num <= 1:\n",
    "        return False\n",
    "    elif num <= 3:\n",
    "        return True\n",
    "    elif num % 2 == 0 or num % 3 == 0:\n",
    "        return False\n",
    "    i = 5\n",
    "    while i * i <= num:\n",
    "        if num % i == 0 or num % (i + 2) == 0:\n",
    "            return False\n",
    "        i += 6\n",
    "    return True\n",
    "\n",
    "def print_primes_in_range(end):\n",
    "    print(\"Prime numbers up to\", end, \"are:\")\n",
    "    for num in range(2, end + 1):\n",
    "        if is_prime(num):\n",
    "            print(num, end=\" \")\n",
    "\n",
    "    def is_prime(num):\n",
    "    if num <= 1:\n",
    "        return False\n",
    "    elif num <= 3:\n",
    "        return True\n",
    "    elif num % 2 == 0 or num % 3 == 0:\n",
    "        return False\n",
    "    i = 5\n",
    "    while i * i <= num:\n",
    "        if num % i == 0 or num % (i + 2) == 0:\n",
    "            return False\n",
    "        i += 6\n",
    "    return True\n",
    "\n",
    "def print_primes_in_range(end):\n",
    "    print(\"Prime numbers up to\", end, \"are:\")\n",
    "    for num in range(2, end + 1):\n",
    "        if is_prime(num):\n",
    "            print(num, end=\" \")\n"
   ]
  },
  {
   "cell_type": "code",
   "execution_count": 4,
   "id": "e7949378-9129-42b8-aec4-bbf1c6bcec32",
   "metadata": {},
   "outputs": [
    {
     "ename": "IndentationError",
     "evalue": "unindent does not match any outer indentation level (<tokenize>, line 8)",
     "output_type": "error",
     "traceback": [
      "\u001b[1;36m  File \u001b[1;32m<tokenize>:8\u001b[1;36m\u001b[0m\n\u001b[1;33m    if(c==1):\u001b[0m\n\u001b[1;37m    ^\u001b[0m\n\u001b[1;31mIndentationError\u001b[0m\u001b[1;31m:\u001b[0m unindent does not match any outer indentation level\n"
     ]
    }
   ],
   "source": [
    "n=int(input())#6\n",
    "for i in range(2,n+1):\n",
    "    c=1\n",
    "    for j in range(2,int(i/2)+1):\n",
    "        if(i%j==0):\n",
    "            c=0\n",
    "            break\n",
    "       if(c==1):\n",
    "           print(i)\n",
    "\n",
    "    "
   ]
  },
  {
   "cell_type": "code",
   "execution_count": 6,
   "id": "8f2b5a9d-8bb9-4843-a05e-94beab7cbbe6",
   "metadata": {},
   "outputs": [
    {
     "data": {
      "text/plain": [
       "<matplotlib.legend.Legend at 0x203580cd510>"
      ]
     },
     "execution_count": 6,
     "metadata": {},
     "output_type": "execute_result"
    },
    {
     "data": {
      "image/png": "[encoded data removed]",
      "text/plain": [
       "<Figure size 640x480 with 1 Axes>"
      ]
     },
     "metadata": {},
     "output_type": "display_data"
    }
   ],
   "source": [
    "import matplotlib.pyplot as plt\n",
    "x=[\"apple\",\"blueberry\",\"mango\",\"storberry\",\"banana\",\"redcherry\",\"orange\"]\n",
    "popup=[0,0,0,0.2,0,0.2,0]\n",
    "col=[\"red\",\"blue\",\"orange\",\"pink\",\"yellow\"]\n",
    "y=[25,20,35,40,20,30,90]\n",
    "plt.pie(y,labels=x,explode=popup,shadow=True,colors=col,autopct=\"%.1f%%\")\n",
    "plt.legend(loc=\"lower right\")"
   ]
  },
  {
   "cell_type": "code",
   "execution_count": 9,
   "id": "c6b555e0-ae90-4349-9eda-b6c169b0a579",
   "metadata": {},
   "outputs": [
    {
     "name": "stdin",
     "output_type": "stream",
     "text": [
      " 11\n",
      " 20\n"
     ]
    },
    {
     "name": "stdout",
     "output_type": "stream",
     "text": [
      "11 is not a special number\n",
      "12 is not a special number\n",
      "13 is not a special number\n",
      "14 is not a special number\n",
      "15 is not a special number\n",
      "16 is not a special number\n",
      "17 is not a special number\n",
      "18 is not a special number\n",
      "19 is a special number\n",
      "20 is not a special number\n"
     ]
    }
   ],
   "source": [
    "n1=int(input())\n",
    "n2=int(input())\n",
    "for i in range(n1,n2+1):\n",
    "     sum=((i//10)+(i%10))+((i//10)*(i%10))\n",
    "     if(sum==i):\n",
    "         print(i,\"is a special number\")\n",
    "     else:\n",
    "         print(i,\"is not a special number\")"
   ]
  },
  {
   "cell_type": "code",
   "execution_count": 10,
   "id": "ad8cf698-96fa-4a60-af8c-4c4cc4ed3f6e",
   "metadata": {},
   "outputs": [
    {
     "ename": "SyntaxError",
     "evalue": "Missing parentheses in call to 'print'. Did you mean print(...)? (2944973319.py, line 1)",
     "output_type": "error",
     "traceback": [
      "\u001b[1;36m  Cell \u001b[1;32mIn[10], line 1\u001b[1;36m\u001b[0m\n\u001b[1;33m    write a progrem to print the following series\u001b[0m\n\u001b[1;37m                       ^\u001b[0m\n\u001b[1;31mSyntaxError\u001b[0m\u001b[1;31m:\u001b[0m Missing parentheses in call to 'print'. Did you mean print(...)?\n"
     ]
    }
   ],
   "source": [
    "write a progrem to print the following series \n",
    "input:\n",
    "10\n",
    "output:\n",
    "0 2 8 14 24 34 48 62 80 98...."
   ]
  },
  {
   "cell_type": "code",
   "execution_count": 12,
   "id": "e8595bd9-ff37-4137-bcf1-309aaa75d833",
   "metadata": {},
   "outputs": [
    {
     "name": "stdin",
     "output_type": "stream",
     "text": [
      " 98\n"
     ]
    },
    {
     "name": "stdout",
     "output_type": "stream",
     "text": [
      "0\n",
      "2\n",
      "8\n",
      "14\n",
      "24\n",
      "34\n",
      "48\n",
      "62\n",
      "80\n",
      "98\n",
      "120\n",
      "142\n",
      "168\n",
      "194\n",
      "224\n",
      "254\n",
      "288\n",
      "322\n",
      "360\n",
      "398\n",
      "440\n",
      "482\n",
      "528\n",
      "574\n",
      "624\n",
      "674\n",
      "728\n",
      "782\n",
      "840\n",
      "898\n",
      "960\n",
      "1022\n",
      "1088\n",
      "1154\n",
      "1224\n",
      "1294\n",
      "1368\n",
      "1442\n",
      "1520\n",
      "1598\n",
      "1680\n",
      "1762\n",
      "1848\n",
      "1934\n",
      "2024\n",
      "2114\n",
      "2208\n",
      "2302\n",
      "2400\n",
      "2498\n",
      "2600\n",
      "2702\n",
      "2808\n",
      "2914\n",
      "3024\n",
      "3134\n",
      "3248\n",
      "3362\n",
      "3480\n",
      "3598\n",
      "3720\n",
      "3842\n",
      "3968\n",
      "4094\n",
      "4224\n",
      "4354\n",
      "4488\n",
      "4622\n",
      "4760\n",
      "4898\n",
      "5040\n",
      "5182\n",
      "5328\n",
      "5474\n",
      "5624\n",
      "5774\n",
      "5928\n",
      "6082\n",
      "6240\n",
      "6398\n",
      "6560\n",
      "6722\n",
      "6888\n",
      "7054\n",
      "7224\n",
      "7394\n",
      "7568\n",
      "7742\n",
      "7920\n",
      "8098\n",
      "8280\n",
      "8462\n",
      "8648\n",
      "8834\n",
      "9024\n",
      "9214\n",
      "9408\n",
      "9602\n"
     ]
    }
   ],
   "source": [
    "n=int(input())\n",
    "i=1\n",
    "for i in range(1,n+1):\n",
    "  if(i%2==0):\n",
    "     print((i*i)-2)\n",
    "  else:\n",
    "     print((i*i)-1)"
   ]
  },
  {
   "cell_type": "code",
   "execution_count": 1,
   "id": "4b512ac7-f9ef-46ec-a80a-189508de668f",
   "metadata": {},
   "outputs": [
    {
     "name": "stdout",
     "output_type": "stream",
     "text": [
      "His last name isRefsnes\n"
     ]
    }
   ],
   "source": [
    "def my_function(**kid):\n",
    " print(\"His last name is\"+kid[\"lname\"])\n",
    "my_function(fname=\"Tobias\",lname=\"Refsnes\")"
   ]
  },
  {
   "cell_type": "code",
   "execution_count": 8,
   "id": "f86d9f85-a2e7-4933-95bb-4ffec866ce1e",
   "metadata": {},
   "outputs": [
    {
     "name": "stdout",
     "output_type": "stream",
     "text": [
      "The youngest isEmail\n"
     ]
    }
   ],
   "source": [
    "def  my_function(child1,child2,lname):\n",
    "    print(\"The youngest is\"+child1)\n",
    "my_function(child1=\"Email\",child2=\"Tobias\",lname=\"Refsnes\")"
   ]
  },
  {
   "cell_type": "code",
   "execution_count": 18,
   "id": "64322d3a-d1aa-4750-a355-104f50498d05",
   "metadata": {},
   "outputs": [
    {
     "name": "stdout",
     "output_type": "stream",
     "text": [
      "I want my frinds\n",
      "I want my India\n",
      "I want my Norway\n",
      "I want my Brazil\n"
     ]
    }
   ],
   "source": [
    "def my_function(country=\"Norway\"):\n",
    "    print(\"I want my \" + country)\n",
    "    \n",
    "my_function(\"frinds\")\n",
    "my_function(\"India\")\n",
    "my_function()\n",
    "my_function(\"Brazil\")\n",
    "    "
   ]
  },
  {
   "cell_type": "code",
   "execution_count": 22,
   "id": "b6de1712-cd34-4439-bfc4-bef68a0f50eb",
   "metadata": {},
   "outputs": [
    {
     "name": "stdout",
     "output_type": "stream",
     "text": [
      "apple\n",
      "banana\n",
      "cherry\n"
     ]
    }
   ],
   "source": [
    "def my_function(food):\n",
    " for x in food:\n",
    "   print(x)\n",
    "fruits = [\"apple\",\"banana\",\"cherry\"]\n",
    "my_function(fruits)"
   ]
  },
  {
   "cell_type": "code",
   "execution_count": 24,
   "id": "bc43f1b7-e2eb-4005-850f-ba4ed2039a9c",
   "metadata": {},
   "outputs": [
    {
     "name": "stdout",
     "output_type": "stream",
     "text": [
      "3\n"
     ]
    }
   ],
   "source": [
    "def my_function(*,x):\n",
    "    print(x)\n",
    "my_function(x=3)"
   ]
  },
  {
   "cell_type": "code",
   "execution_count": null,
   "id": "f1922df0-8582-4b60-9671-fa21768fc201",
   "metadata": {},
   "outputs": [],
   "source": [
    "nikitha and dany are close friends they both are dtuding in same school , =now they are vaccations. as they are bored they asked their parente to an\n",
    "exhibition nikith and dany pallyinng game in this game  there are  boxes with some numbers written on top there in one of the box is the \n",
    "input:2,4,6\n",
    "output:2"
   ]
  },
  {
   "cell_type": "code",
   "execution_count": 40,
   "id": "8695a0ae-fb7b-4375-82e0-d096347949cf",
   "metadata": {},
   "outputs": [
    {
     "name": "stdin",
     "output_type": "stream",
     "text": [
      " 12\n",
      " 4\n",
      " 18\n"
     ]
    },
    {
     "name": "stdout",
     "output_type": "stream",
     "text": [
      "treassure is in box no  12\n",
      "key to open the box is  2\n"
     ]
    }
   ],
   "source": [
    "v1=int(input())\n",
    "v2=int(input())\n",
    "v3=int(input())\n",
    "if((v1>v2 and v1<v3) or (v1<v2 and v1>v3)):\n",
    "    print(\"treassure is in box no \",v1)\n",
    "elif((v2>v1 and v2<v3) or (v2<v1 and v2>v3)):\n",
    "    print(\"treassure is in box no \",v2)\n",
    "else:\n",
    "    print(\"tressure is in box no \",v3)\n",
    "key=0\n",
    "for i in range(1,10):\n",
    "    if(v1%i==0 and v2%i==0 and v3%i==0):\n",
    "        key=i\n",
    "print(\"key to open the box is \",key)"
   ]
  },
  {
   "cell_type": "code",
   "execution_count": null,
   "id": "153d57f3-083b-4900-9a02-68ed5fe12cae",
   "metadata": {},
   "outputs": [],
   "source": [
    "write a program to file wheather thw given input ia a strong number or not for example 145 is strong number reason 4!+5!+_1!\n",
    "input:149\n",
    "output:"
   ]
  },
  {
   "cell_type": "code",
   "execution_count": 10,
   "id": "961b24ac-e6c6-43db-b7c5-4d8ffd6d4713",
   "metadata": {},
   "outputs": [
    {
     "name": "stdin",
     "output_type": "stream",
     "text": [
      " 13\n"
     ]
    },
    {
     "name": "stdout",
     "output_type": "stream",
     "text": [
      "6227020800\n"
     ]
    }
   ],
   "source": [
    "m=int(input())\n",
    "c=1\n",
    "while(m>1):\n",
    "    c=c*m \n",
    "    m=m-1\n",
    "sum=m+c\n",
    "print(c)"
   ]
  },
  {
   "cell_type": "code",
   "execution_count": 55,
   "id": "96450bda-70f2-443b-afaa-d0400263f5ea",
   "metadata": {},
   "outputs": [
    {
     "name": "stdin",
     "output_type": "stream",
     "text": [
      " 12\n"
     ]
    },
    {
     "name": "stdout",
     "output_type": "stream",
     "text": [
      "not a strong number\n"
     ]
    }
   ],
   "source": [
    "n=int(input())\n",
    "sum=0\n",
    "while(n>0):\n",
    "    m=n%10\n",
    "    c=1\n",
    "    while(m>1):\n",
    "        c=c*m\n",
    "        m=m-1\n",
    "    sum=sum+c\n",
    "    n=n//10\n",
    "if(n==sum):\n",
    "    print(\"strong number\")\n",
    "else:\n",
    "    print(\"not a strong number\")\n"
   ]
  },
  {
   "cell_type": "code",
   "execution_count": 6,
   "id": "e131e04f-1390-45c6-b708-439e5394f826",
   "metadata": {},
   "outputs": [
    {
     "ename": "SyntaxError",
     "evalue": "Missing parentheses in call to 'print'. Did you mean print(...)? (3863050640.py, line 1)",
     "output_type": "error",
     "traceback": [
      "\u001b[1;36m  Cell \u001b[1;32mIn[6], line 1\u001b[1;36m\u001b[0m\n\u001b[1;33m    write a program to print sum of the digit till single digit\u001b[0m\n\u001b[1;37m                       ^\u001b[0m\n\u001b[1;31mSyntaxError\u001b[0m\u001b[1;31m:\u001b[0m Missing parentheses in call to 'print'. Did you mean print(...)?\n"
     ]
    }
   ],
   "source": [
    "write a program to print sum of the digit till single digit"
   ]
  },
  {
   "cell_type": "code",
   "execution_count": 4,
   "id": "85642391-accc-41bb-9f92-5add4191a96d",
   "metadata": {},
   "outputs": [
    {
     "name": "stdin",
     "output_type": "stream",
     "text": [
      " 28\n"
     ]
    },
    {
     "name": "stdout",
     "output_type": "stream",
     "text": [
      "1\n"
     ]
    }
   ],
   "source": [
    "n=int(input())\n",
    "if(n==0):\n",
    "    print(\"0\")\n",
    "if(n%9==0):\n",
    "    print(\"9\")\n",
    "else:\n",
    "    print(n%9)"
   ]
  },
  {
   "cell_type": "code",
   "execution_count": 5,
   "id": "6115fc5a-6d57-4c66-a668-339cacca383a",
   "metadata": {},
   "outputs": [
    {
     "name": "stdout",
     "output_type": "stream",
     "text": [
      "Ahmed vijay shekar goud\n"
     ]
    }
   ],
   "source": [
    "class civil:\n",
    "    def vijay(self,n1,n2,n3):\n",
    "        self.n1=n1\n",
    "        self.n2=n2\n",
    "        self.n3=n3\n",
    "        print(n1,n2,n3)\n",
    "obj=civil()\n",
    "obj.vijay(\"Ahmed\",\"vijay\",\"shekar goud\")"
   ]
  },
  {
   "cell_type": "code",
   "execution_count": 14,
   "id": "00e9f46f-adf0-4dd6-ad60-9b2e76d1df4e",
   "metadata": {},
   "outputs": [
    {
     "name": "stdin",
     "output_type": "stream",
     "text": [
      " 5\n",
      " 4\n",
      " 3\n",
      " 2\n",
      " 1\n",
      " 5\n"
     ]
    },
    {
     "name": "stdout",
     "output_type": "stream",
     "text": [
      "1\n",
      "2\n",
      "3\n",
      "4\n",
      "5\n"
     ]
    }
   ],
   "source": [
    "n=int(input().strip())\n",
    "arr=[int(input().strip()) for i in range(n)]\n",
    "temp=0\n",
    "for i in range(0,n) :\n",
    "    for j in range(i,n):\n",
    "        if(arr[i]>arr[j]):\n",
    "           temp=arr[i]\n",
    "           arr[i]=arr[j]\n",
    "           arr[j]=temp\n",
    "for i in range (0,n):\n",
    "    print(arr[i])\n",
    "\n"
   ]
  },
  {
   "cell_type": "code",
   "execution_count": null,
   "id": "3abfd1de-2edf-4034-9f99-d426413fa51c",
   "metadata": {},
   "outputs": [],
   "source": [
    "single inhirentans enables a derived class to interiad properties of single paided class thous enable cod revisibility to existing code "
   ]
  },
  {
   "cell_type": "code",
   "execution_count": 17,
   "id": "29d834d4-1ff4-4cd0-bc37-c142b4d77194",
   "metadata": {},
   "outputs": [
    {
     "name": "stdout",
     "output_type": "stream",
     "text": [
      "we are in parent class\n",
      "we are in child class\n"
     ]
    }
   ],
   "source": [
    "class parent:\n",
    "    def a(self):\n",
    "        print(\"we are in parent class\")\n",
    "class child(parent):\n",
    "    def c(self):\n",
    "        print(\"we are in child class\")\n",
    "obj2=child()\n",
    "obj2.a()\n",
    "obj2.c()\n",
    "\n",
    "    "
   ]
  },
  {
   "cell_type": "code",
   "execution_count": null,
   "id": "b1da2d18-c723-43d6-b64d-d6343469fe4c",
   "metadata": {},
   "outputs": [],
   "source": [
    "multipleinheradens :-\n",
    "  when a class can be derived frome more one days class third tyoe of inheradance multiplen inherdane"
   ]
  },
  {
   "cell_type": "code",
   "execution_count": 19,
   "id": "46b1d733-236f-4445-8e9d-c2786b49067f",
   "metadata": {},
   "outputs": [
    {
     "name": "stdout",
     "output_type": "stream",
     "text": [
      "we are in parent class1\n",
      "we are in parent class2\n",
      "im vijay\n"
     ]
    }
   ],
   "source": [
    "class parent1:\n",
    "    def a(self):\n",
    "        print(\"we are in parent class1\")\n",
    "class parent2:\n",
    "    def c(self):\n",
    "        print(\"we are in parent class2\")\n",
    "class child(parent1,parent2):\n",
    "    def vijay(self):\n",
    "        print(\"im vijay\")\n",
    "        \n",
    "obj2=child()\n",
    "obj2.a()\n",
    "obj2.c()\n",
    "obj2.vijay()\n"
   ]
  },
  {
   "cell_type": "code",
   "execution_count": null,
   "id": "94cae28b-0db9-43bb-a8b6-02f4c5ca46bc",
   "metadata": {},
   "outputs": [],
   "source": [
    "multilevel inheradence:-\n",
    "   in multiinheradence features of base class and derived class are forther ingraded into new derived class this is similer throw\n",
    "the relation ship representing a child and a grand father\n",
    "                                           G\n",
    "                                        p  f\n",
    "                                           s"
   ]
  },
  {
   "cell_type": "code",
   "execution_count": 21,
   "id": "cd400285-2c3c-4e9f-9307-de590bba72f8",
   "metadata": {},
   "outputs": [
    {
     "name": "stdout",
     "output_type": "stream",
     "text": [
      "we are in grand father class\n",
      "we are in dad's class\n",
      "we are in anand sir class\n"
     ]
    }
   ],
   "source": [
    "class grandfather:\n",
    "    def grand(self):\n",
    "        print(\"we are in grand father class\")\n",
    "class father(grandfather):\n",
    "    def dad (self):\n",
    "        print(\"we are in dad's class\")\n",
    "class child(father):\n",
    "    def son(self):\n",
    "        print(\"we are in anand sir class\")\n",
    "o=child()\n",
    "o.grand()\n",
    "o.dad()\n",
    "o.son()"
   ]
  },
  {
   "cell_type": "code",
   "execution_count": null,
   "id": "8332539f-7cd8-4bc6-b274-7af639c27c2d",
   "metadata": {},
   "outputs": [],
   "source": [
    "hierarchical inheritance:-\n",
    "    when more then one derived class are created frome one base class this type of inheradence is called as hierarchical inheridance.\n",
    "                                 base\n",
    "                                  p\n",
    "       c1(derive1)            c2(derive2)        c3(derived3)"
   ]
  },
  {
   "cell_type": "code",
   "execution_count": 26,
   "id": "74490894-cb2c-43cf-bce8-6ba139ece826",
   "metadata": {},
   "outputs": [
    {
     "name": "stdout",
     "output_type": "stream",
     "text": [
      "we are in anand sir class\n",
      "we are in 1st child class\n",
      "we are in 2nd child class\n",
      "we are in 3rd child class\n"
     ]
    }
   ],
   "source": [
    "class parent():\n",
    "    def a(self):\n",
    "        print(\"we are in anand sir class\")\n",
    "class child1(parent):\n",
    "    def b(self):\n",
    "       print(\"we are in 1st child class\")\n",
    "class child2(parent):\n",
    "    def c(self):\n",
    "        print(\"we are in 2nd child class\")\n",
    "class child3(parent):\n",
    "    def d(self):\n",
    "        print(\"we are in 3rd child class\")\n",
    "o1=child1()\n",
    "o2=child2()\n",
    "o3=child3()\n",
    "o1.a()\n",
    "o1.b()\n",
    "o2.c()\n",
    "o3.d()\n",
    "\n",
    "    \n"
   ]
  },
  {
   "cell_type": "code",
   "execution_count": 7,
   "id": "de4e269f-6568-4bd6-9e5c-b59f235dce8e",
   "metadata": {},
   "outputs": [
    {
     "name": "stdin",
     "output_type": "stream",
     "text": [
      " 5\n",
      " 6\n",
      " 6\n",
      " 6\n",
      " 6\n",
      " 2\n",
      " 2\n"
     ]
    },
    {
     "name": "stdout",
     "output_type": "stream",
     "text": [
      "1\n"
     ]
    }
   ],
   "source": [
    "n=int(input().strip())\n",
    "m=int(input())\n",
    "list=[(int(input().strip()))for i in range(n)]\n",
    "sum=0\n",
    "bus=0\n",
    "for i in range(n):\n",
    "    if(sum+list[i]>m):\n",
    "        bus=bus+1\n",
    "        sum=list[i]\n",
    "else:\n",
    "    sum=sum+list[i]\n",
    "if(sum>0):\n",
    "    bus=bus+1\n",
    "print(bus)"
   ]
  },
  {
   "cell_type": "code",
   "execution_count": null,
   "id": "94b44a64-5dc8-40a2-8eda-95a50ee5aa21",
   "metadata": {},
   "outputs": [],
   "source": [
    "write a program using the concept of single level inheratins to print sum of 2 elements "
   ]
  },
  {
   "cell_type": "code",
   "execution_count": 12,
   "id": "6b25a28b-66fa-4ef1-82fc-7fec2eee4ff4",
   "metadata": {},
   "outputs": [
    {
     "name": "stdin",
     "output_type": "stream",
     "text": [
      " 6\n",
      " 7\n"
     ]
    },
    {
     "name": "stdout",
     "output_type": "stream",
     "text": [
      "sum= 13\n",
      "you are in child class\n"
     ]
    }
   ],
   "source": [
    "a=int(input())\n",
    "b=int(input())\n",
    "class parent:\n",
    "    def sum(self,a,b):\n",
    "        self.a=a\n",
    "        self.b=b\n",
    "        print(\"sum=\",self.a+self.b)\n",
    "class child(parent):\n",
    "    def son(self):\n",
    "        print(\"you are in child class\")\n",
    "o=child()\n",
    "o.sum(a,b)\n",
    "o.son()"
   ]
  },
  {
   "cell_type": "code",
   "execution_count": null,
   "id": "da807ca1-eec2-4678-843f-0e77318b2df5",
   "metadata": {},
   "outputs": [],
   "source": [
    "HYBRID INHERITANCE\n",
    "inhertance consisting of muliple types of inheritance is known as hybrid inheritance\n",
    "                               A\n",
    "                           B       C\n",
    "                               D"
   ]
  },
  {
   "cell_type": "code",
   "execution_count": 1,
   "id": "db2bab56-c49f-4645-b437-c5cbb5d72141",
   "metadata": {},
   "outputs": [
    {
     "name": "stdout",
     "output_type": "stream",
     "text": [
      "i am base class\n",
      "i am derived class 1\n",
      "i am derived class 2\n",
      "i am child class 3\n",
      "we are in child1 class\n",
      "we are in child2 class\n"
     ]
    }
   ],
   "source": [
    "class base:\n",
    "    def b(self):\n",
    "        print(\"i am base class\")\n",
    "class derived1(base):\n",
    "    def d1(self):\n",
    "        print(\"i am derived class 1\")\n",
    "class derived2(base):\n",
    "    def d2(self):\n",
    "        print(\"i am derived class 2\")\n",
    "class child(derived1):\n",
    "    def d3(self):\n",
    "        print(\"i am child class 3\")\n",
    "class child1(child):\n",
    "    def b1(self):\n",
    "        print(\"we are in child1 class\")\n",
    "class child2(child):\n",
    "    def c(self):\n",
    "        print(\"we are in child2 class\")\n",
    "o1=derived1()\n",
    "o2=derived2()\n",
    "o3=child()\n",
    "o4=child1()\n",
    "o5=child2()\n",
    "o1.b()\n",
    "o1.d1()\n",
    "o2.d2()\n",
    "o3.d3()\n",
    "o4.b1()\n",
    "o5.c()"
   ]
  },
  {
   "cell_type": "code",
   "execution_count": null,
   "id": "049665e7-a963-45a6-970d-f1b358fd093e",
   "metadata": {},
   "outputs": [],
   "source": [
    " write a program to print number of vowels in string\n",
    "input:ballari"
   ]
  },
  {
   "cell_type": "code",
   "execution_count": 19,
   "id": "93eb0020-e7b4-4748-afed-958e87580c66",
   "metadata": {},
   "outputs": [
    {
     "name": "stdin",
     "output_type": "stream",
     "text": [
      " vijaya shekara goud\n"
     ]
    },
    {
     "name": "stdout",
     "output_type": "stream",
     "text": [
      "count of vowlem = 7\n"
     ]
    }
   ],
   "source": [
    "s=input()\n",
    "c=0\n",
    "for char in s:\n",
    "    if(char=='a'  or char=='i' or char=='o' or char=='u' or char=='A' or char=='E' or char=='I' or char=='U'):\n",
    "       c=c+1\n",
    "print(\"count of vowlem =\",c)"
   ]
  },
  {
   "cell_type": "code",
   "execution_count": 21,
   "id": "e3a9768b-8451-4081-bfac-0fcaa5ceb9fe",
   "metadata": {},
   "outputs": [
    {
     "name": "stdout",
     "output_type": "stream",
     "text": [
      "london\n"
     ]
    }
   ],
   "source": [
    "s=input=()\n",
    "i=0\n",
    "n=len(s)-1\n",
    "while(i<n):\n",
    "    if(s[i]!=s[n]):\n",
    "        print(\"not a london\")\n",
    "        break\n",
    "    i=i+1\n",
    "    n=n-1\n",
    "else:\n",
    "    print(\"london\")"
   ]
  },
  {
   "cell_type": "code",
   "execution_count": null,
   "id": "7a71cae6-f4aa-411b-80cf-578f6962167f",
   "metadata": {},
   "outputs": [],
   "source": []
  },
  {
   "cell_type": "code",
   "execution_count": null,
   "id": "c18e1aca-f918-49a4-8ffa-7a66e69874d0",
   "metadata": {},
   "outputs": [],
   "source": [
    "method over loading"
   ]
  },
  {
   "cell_type": "code",
   "execution_count": 11,
   "id": "33ce3044-8b18-44b0-bad3-90c0a629f784",
   "metadata": {},
   "outputs": [
    {
     "name": "stdout",
     "output_type": "stream",
     "text": [
      "12\n",
      "17.204\n"
     ]
    }
   ],
   "source": [
    "from multipledispatch import dispatch\n",
    "def product(first, second, third):\n",
    "    result= first*second*third\n",
    "    print(result)\n",
    "def product(first, second, third):\n",
    "    result= first*second*third\n",
    "    print(result)\n",
    "product(2,3,2)\n",
    "product(2.2,3.4,2.3)\n"
   ]
  },
  {
   "cell_type": "code",
   "execution_count": null,
   "id": "a376b783-f8a4-44d1-914e-5245569360b8",
   "metadata": {},
   "outputs": [],
   "source": [
    "whenever the function name is declared same in  both the inherited classes base class child class and which is having different \n",
    "types of parameters or different data types as an orguments is know as method overloading. when both the inherited classes base class and child class\n",
    "are having same function name and same number of parameters aree present in both the base class and child class together, \n",
    "in this condition the child class method will overwrite the base class method. if ur calling the functin to print thr data \n",
    "it will only print the over rided method data(child class data)\n"
   ]
  },
  {
   "cell_type": "code",
   "execution_count": 14,
   "id": "a92fa811-5d95-4ae5-98a6-3d3f29c7aab5",
   "metadata": {},
   "outputs": [
    {
     "name": "stdout",
     "output_type": "stream",
     "text": [
      "Inside GrandChild\n",
      "Inside GrandChild\n"
     ]
    }
   ],
   "source": [
    "class Parent():\n",
    "   def show(self):\n",
    "       print(\"Inside Parent\")\n",
    "class Child(Parent):\n",
    "   def show(self):\n",
    "       print(\"Inside Child\")\n",
    "class GrandChild(Child):\n",
    "   def show(self):\n",
    "       print(\"Inside GrandChild\")\n",
    "g = GrandChild()\n",
    "g.show()\n",
    "g.show()"
   ]
  },
  {
   "cell_type": "code",
   "execution_count": null,
   "id": "466af787-da23-473e-ba2f-9586f70e82b9",
   "metadata": {},
   "outputs": [],
   "source": []
  }
 ],
 "metadata": {
  "kernelspec": {
   "display_name": "Python 3 (ipykernel)",
   "language": "python",
   "name": "python3"
  },
  "language_info": {
   "codemirror_mode": {
    "name": "ipython",
    "version": 3
   },
   "file_extension": ".py",
   "mimetype": "text/x-python",
   "name": "python",
   "nbconvert_exporter": "python",
   "pygments_lexer": "ipython3",
   "version": "3.11.7"
  }
 },
 "nbformat": 4,
 "nbformat_minor": 5
}
